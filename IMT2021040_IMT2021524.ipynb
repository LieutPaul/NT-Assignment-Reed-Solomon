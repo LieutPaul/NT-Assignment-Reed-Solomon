{
  "cells": [
    {
      "attachments": {},
      "cell_type": "markdown",
      "id": "bd103c06",
      "metadata": {},
      "source": [
        "Group Members:\n",
        "1. Vikas Kalyanapuram - IMT2021040\n",
        "2. Barath S Narayan - IMT2021524"
      ]
    },
    {
      "attachments": {},
      "cell_type": "markdown",
      "id": "65a36330",
      "metadata": {},
      "source": [
        "GlobalSetup() - Will try to choose primes such that the n > 2MP^2 condition is satisfied and will set k as the number of primes chosen.\n",
        "\n",
        "GlobalSetup2() - Will choose k at random and will choose the first k primes irrespective of whether the condition is satisfied or not. "
      ]
    },
    {
      "cell_type": "code",
      "execution_count": null,
      "id": "I6xDJiDnkv-o",
      "metadata": {
        "colab": {
          "base_uri": "https://localhost:8080/"
        },
        "id": "I6xDJiDnkv-o",
        "outputId": "a1b2a77c-53b9-4f77-eb34-76e6952c6665"
      },
      "outputs": [],
      "source": [
        "!pip3 install gmpy2\n",
        "from gmpy2 import mpz,mpq,next_prime\n",
        "import random\n",
        "from math import floor"
      ]
    },
    {
      "cell_type": "code",
      "execution_count": null,
      "id": "bfFuO98mk13o",
      "metadata": {
        "id": "bfFuO98mk13o"
      },
      "outputs": [],
      "source": [
        "\n",
        "def binary_egcd(a,b):\n",
        "    \n",
        "    if(a<b):\n",
        "        a,b = b,a\n",
        "    \n",
        "    r = mpz(a)\n",
        "    r_d = mpz(b)\n",
        "    e = mpz(0)\n",
        "    \n",
        "    while (((r % 2) == 0) and ((r_d % 2) == 0)):\n",
        "        r = r >> 1\n",
        "        r_d = r_d >> 1\n",
        "        e += 1\n",
        "    \n",
        "    a_t = r\n",
        "    b_t = r_d\n",
        "    s,t,s_d,t_d = mpz(1),mpz(0),mpz(0),mpz(1)\n",
        "    \n",
        "    while (r_d != 0):\n",
        "        \n",
        "        while((r % 2) == 0):\n",
        "            r = r >> 1\n",
        "            if ((s % 2) == 0 and ((t % 2) == 0)):\n",
        "                s = s >> 1\n",
        "                t = t >> 1\n",
        "            else:\n",
        "                s = (s + b_t) >> 1\n",
        "                t = (t - a_t) >> 1\n",
        "        \n",
        "        while((r_d % 2) == 0):\n",
        "            r_d = r_d >> 1\n",
        "            if (((s_d % 2) == 0) and ((t_d % 2) == 0)):\n",
        "                s_d = s_d >> 1\n",
        "                t_d = t_d >> 1\n",
        "            else:\n",
        "                s_d = (s_d + b_t) >> 1\n",
        "                t_d = (t_d - a_t) >> 1\n",
        "\n",
        "        if(r_d < r):\n",
        "            r, s, t, r_d, s_d, t_d = r_d, s_d, t_d, r, s, t\n",
        "        \n",
        "        r_d = r_d - r\n",
        "        s_d = s_d - s\n",
        "        t_d = t_d - t\n",
        "    \n",
        "    d = ((1 << e) * r)\n",
        "    return (d,s,t)"
      ]
    },
    {
      "cell_type": "code",
      "execution_count": null,
      "id": "MEIdAcWTlKqz",
      "metadata": {
        "id": "MEIdAcWTlKqz"
      },
      "outputs": [],
      "source": [
        "def egcd(a,b,r_star):\n",
        "    \n",
        "    if(a<b):\n",
        "        a,b = b,a\n",
        "\n",
        "    r = mpz(a)\n",
        "    r_d = mpz(b)\n",
        "    s, s_d, t, t_d = mpz(1), mpz(0), mpz(0), mpz(1)\n",
        "    while(r_d != 0):\n",
        "        if(r <= r_star):\n",
        "            return r,s,t\n",
        "        q = mpz(r // r_d)\n",
        "        r_dd = mpz(r % r_d)\n",
        "        r, s, t, r_d, s_d, t_d = r_d, s_d, t_d, r_dd, mpz(s - (s_d * q)), mpz(t - (t_d * q))\n",
        "    return (-1,-1,-1)"
      ]
    },
    {
      "cell_type": "code",
      "execution_count": null,
      "id": "9n-gY3KblxcA",
      "metadata": {
        "id": "9n-gY3KblxcA"
      },
      "outputs": [],
      "source": [
        "def CRT(a,n):\n",
        "    \n",
        "    x, N = mpz(0), mpz(1)\n",
        "    \n",
        "    for i in n:\n",
        "        N *= i\n",
        "    \n",
        "    for i in range(len(n)):\n",
        "        \n",
        "        N_k = mpz(N // n[i])\n",
        "        (d, x_k, t) = binary_egcd(N_k,n[i])\n",
        "        \n",
        "        if(d != mpz(1)):\n",
        "            x = mpz(-1)\n",
        "            break\n",
        "        \n",
        "        x += mpz( mpz(a[i] * N_k * x_k) % mpz(N) )\n",
        "    \n",
        "    return mpz(x) % mpz(N)"
      ]
    },
    {
      "cell_type": "code",
      "execution_count": null,
      "id": "GBqOt5orlyYb",
      "metadata": {
        "id": "GBqOt5orlyYb"
      },
      "outputs": [],
      "source": [
        "def GlobalSetup(mu,M):\n",
        "    l = [] #This is the list of primes\n",
        "    ni = mpz(2)\n",
        "    product_of_primes = mpz(1)\n",
        "    while(ni < M and len(l) < 500):\n",
        "        product_of_primes *= ni\n",
        "        l.append(ni)\n",
        "        L = mpz(floor(mu*mpz(len(l))))\n",
        "        P = mpz(1)\n",
        "        for j in range(L):\n",
        "            P *= l[-j - 1]\n",
        "        if(product_of_primes > 2 * M * P * P):\n",
        "            break\n",
        "        ni = next_prime(ni)\n",
        "    return l"
      ]
    },
    {
      "cell_type": "code",
      "execution_count": null,
      "id": "68548c58",
      "metadata": {},
      "outputs": [],
      "source": [
        "def GlobalSetup2(k):\n",
        "    l = []\n",
        "    ni = mpz(2)\n",
        "    for i in range(k):\n",
        "        l.append(ni)\n",
        "        ni = next_prime(ni)\n",
        "    return l"
      ]
    },
    {
      "cell_type": "code",
      "execution_count": null,
      "id": "54fe7aab",
      "metadata": {},
      "outputs": [],
      "source": [
        "def Transmit(k,n,a,myu):\n",
        "    b = []\n",
        "    l = mpz(random.randint(0,mpz(myu*k))) # mpz(myu,k) will turn it into an integer\n",
        "    I = [] # I is the set of bad indices\n",
        "    for i in range(0,l):\n",
        "        x = mpz(random.randint(1,k))\n",
        "        while x in I: #To generate a unique 'bad' index\n",
        "            x = mpz(random.randint(1,k))\n",
        "        I.append(x)\n",
        "    for i in range(1,k+1):\n",
        "        if i in I:\n",
        "            x = mpz(random.randint(0,n[i-1]-1))\n",
        "            while(x == a[i-1]): # To ensure b[i] != a[i]\n",
        "                x = mpz(random.randint(0,n[i-1]-1))\n",
        "            b.append(x)\n",
        "        else:\n",
        "            b.append(a[i-1])\n",
        "    \n",
        "    return b"
      ]
    },
    {
      "cell_type": "code",
      "execution_count": null,
      "id": "5d3169cf",
      "metadata": {},
      "outputs": [],
      "source": [
        "def ReedSolomonSend(a,l,mu):\n",
        "    msglist = [] # List of ai's\n",
        "    am = mpz(a)\n",
        "    for i in range(len(l)):\n",
        "        msglist.append(mpz(am%l[i]))\n",
        "    return Transmit(len(l),l,msglist,mu) "
      ]
    },
    {
      "cell_type": "code",
      "execution_count": null,
      "id": "427bb52f",
      "metadata": {},
      "outputs": [],
      "source": [
        "def ReedSolomonReceive(msglist, n, M, mu):\n",
        "    P = mpz(1)\n",
        "    for i in range(floor(mu*len(n))):\n",
        "        P *= n[-i-1]\n",
        "    r_star = M * P \n",
        "    b = CRT(msglist,n)\n",
        "    product_of_n = mpz(1)\n",
        "    for i in n:\n",
        "        product_of_n *= i    \n",
        "    r,s,t = egcd(product_of_n,b,r_star)\n",
        "    if(r == -1 or t == 0 or r % t != 0):\n",
        "        return \"ERROR\"\n",
        "    else:\n",
        "        return mpz(r//t)"
      ]
    },
    {
      "attachments": {},
      "cell_type": "markdown",
      "id": "d7459a91",
      "metadata": {},
      "source": [
        "TestCases we tested our code with:"
      ]
    },
    {
      "cell_type": "code",
      "execution_count": null,
      "id": "SAAT3I3zmDul",
      "metadata": {
        "colab": {
          "base_uri": "https://localhost:8080/"
        },
        "id": "SAAT3I3zmDul",
        "outputId": "b5013e3e-4574-4c1a-cb41-eadc183564da"
      },
      "outputs": [],
      "source": [
        "mu = 0.2\n",
        "M = mpz(1<<1024)\n",
        "l = GlobalSetup(mu,M) # l is the list of primes"
      ]
    },
    {
      "cell_type": "code",
      "execution_count": null,
      "id": "2b8f1e71",
      "metadata": {},
      "outputs": [],
      "source": [
        "a = mpz(72234)\n",
        "b = ReedSolomonSend(a,l,mu)\n",
        "print(ReedSolomonReceive(b,l,M,mu))\n",
        "\n",
        "a = mpz(2136834135)\n",
        "b = ReedSolomonSend(a,l,mu)\n",
        "print(ReedSolomonReceive(b,l,M,mu))\n",
        "\n",
        "a = mpz(154623461948719238719238774322267944)\n",
        "b = ReedSolomonSend(a,l,mu)\n",
        "print(ReedSolomonReceive(b,l,M,mu))\n",
        "\n",
        "a = mpz(1823719472184761)\n",
        "b = ReedSolomonSend(a,l,mu)\n",
        "print(ReedSolomonReceive(b,l,M,mu))"
      ]
    },
    {
      "cell_type": "code",
      "execution_count": null,
      "id": "ccc8bafa",
      "metadata": {},
      "outputs": [],
      "source": [
        "mu = 0.2\n",
        "M = mpz(1<<1024)\n",
        "l = GlobalSetup2(200) # l is the list of primes"
      ]
    },
    {
      "cell_type": "code",
      "execution_count": null,
      "id": "dd1b5b2d",
      "metadata": {},
      "outputs": [],
      "source": [
        "a = mpz(15)\n",
        "b = ReedSolomonSend(a,l,mu)\n",
        "print(ReedSolomonReceive(b,l,M,mu))\n",
        "\n",
        "a = mpz(2136834135)\n",
        "b = ReedSolomonSend(a,l,mu)\n",
        "print(ReedSolomonReceive(b,l,M,mu))\n",
        "\n",
        "a = mpz(154623461948719238719238774322267944)\n",
        "b = ReedSolomonSend(a,l,mu)\n",
        "print(ReedSolomonReceive(b,l,M,mu))\n",
        "\n",
        "a = mpz(1823719472184761)\n",
        "b = ReedSolomonSend(a,l,mu)\n",
        "print(ReedSolomonReceive(b,l,M,mu))"
      ]
    },
    {
      "attachments": {},
      "cell_type": "markdown",
      "id": "c1d444fe",
      "metadata": {},
      "source": [
        "Taking input: "
      ]
    },
    {
      "cell_type": "code",
      "execution_count": null,
      "id": "8cdc8f59",
      "metadata": {},
      "outputs": [],
      "source": [
        "bits = int(input(\"Enter number of bits in M:\"))\n",
        "M = mpz(1 << bits)\n",
        "myu = float(input(\"Enter myu (<1): \"))\n",
        "l = GlobalSetup(myu,M)"
      ]
    },
    {
      "cell_type": "code",
      "execution_count": null,
      "id": "125d7f3d",
      "metadata": {},
      "outputs": [],
      "source": [
        "a = mpz(int(input(\"Enter Message: \")))\n",
        "b = ReedSolomonSend(a,l,mu)\n",
        "print(ReedSolomonReceive(b,l,M,mu))"
      ]
    }
  ],
  "metadata": {
    "colab": {
      "provenance": [],
      "toc_visible": true
    },
    "kernelspec": {
      "display_name": "Python 3",
      "name": "python3"
    },
    "language_info": {
      "codemirror_mode": {
        "name": "ipython",
        "version": 3
      },
      "file_extension": ".py",
      "mimetype": "text/x-python",
      "name": "python",
      "nbconvert_exporter": "python",
      "pygments_lexer": "ipython3",
      "version": "3.10.0"
    }
  },
  "nbformat": 4,
  "nbformat_minor": 5
}
